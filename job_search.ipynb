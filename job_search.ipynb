{
 "cells": [
  {
   "cell_type": "code",
   "execution_count": 23,
   "id": "a2434c09-12ac-4f47-81f2-f5c00b4f5824",
   "metadata": {},
   "outputs": [],
   "source": [
    "import json\n",
    "import requests\n",
    "from bs4 import BeautifulSoup\n",
    "from datetime import date\n",
    "import time\n",
    "import random\n",
    "import pickle\n",
    "import pandas as pd\n",
    "import numpy as np\n",
    "import re\n",
    "import os"
   ]
  },
  {
   "cell_type": "code",
   "execution_count": 24,
   "id": "db671f64-f3d5-4025-949c-497c85ceb5c5",
   "metadata": {},
   "outputs": [],
   "source": [
    "import undetected_chromedriver as uc\n",
    "from selenium import webdriver\n",
    "from selenium.webdriver.common.by import By\n",
    "from selenium.webdriver.chrome.options import Options\n",
    "from selenium.common.exceptions import NoSuchElementException"
   ]
  },
  {
   "cell_type": "code",
   "execution_count": 25,
   "id": "21a0e982-8b62-4d7a-a4b3-ce19857d809b",
   "metadata": {},
   "outputs": [],
   "source": [
    "wait_time = 3\n",
    "def loadDataframe():\n",
    "    dataFrameEmpty = {\n",
    "        'id': [],\n",
    "        'title': [],\n",
    "        'company': [],\n",
    "        'location': [],\n",
    "        \"salary\": [],\n",
    "        'link': [],\n",
    "        \"retrieved_on\": [],\n",
    "        \"post_data\": [],\n",
    "        \"description\": []\n",
    "        \n",
    "    }\n",
    "    wait_time = 1\n",
    "    df = pd.DataFrame(dataFrameEmpty)\n",
    "    if os.path.exists('job_search_database.csv'):\n",
    "        df = pd.read_csv('job_search_database.csv')\n",
    "    return df\n"
   ]
  },
  {
   "cell_type": "code",
   "execution_count": 26,
   "id": "02a4e7d2-97db-4c01-b0ed-28ee4d378edf",
   "metadata": {},
   "outputs": [],
   "source": [
    "job_id_cache = {}\n",
    "if os.path.exists('job_id_cache.pickle'):\n",
    "    with open('job_id_cache.pickle', 'rb') as f:\n",
    "        # Pickle the dictionary\n",
    "        job_id_cache = pickle.load(f)"
   ]
  },
  {
   "cell_type": "code",
   "execution_count": 27,
   "id": "742f003a-7fad-4420-bbda-5c64ac9426ad",
   "metadata": {},
   "outputs": [],
   "source": [
    "blackList = []\n",
    "if os.path.exists(\"word_blacklist.json\"):\n",
    "    with open(\"word_blacklist.json\", \"r\") as f:\n",
    "        data = json.load(f)\n",
    "        blackList = data[\"blacklist\"]\n",
    "\n",
    "def inBlackList(text):\n",
    "    for elm in blackList:\n",
    "        if re.search(elm, text.lower()) is not None:\n",
    "            return False\n",
    "    return True"
   ]
  },
  {
   "cell_type": "code",
   "execution_count": 28,
   "id": "188012ae-12fa-4aca-b4b0-71a9325042b1",
   "metadata": {},
   "outputs": [],
   "source": [
    "def saveDictionary(name, dict):\n",
    "    with open(name, 'wb') as f:\n",
    "        pickle.dump(dict, f)"
   ]
  },
  {
   "cell_type": "code",
   "execution_count": 29,
   "id": "523d7ab2-3ac5-44f5-83f9-c4cdd06fa162",
   "metadata": {},
   "outputs": [],
   "source": [
    "def get_element_text_by_classname(driver, class_name):\n",
    "    found = driver.find_elements(By.CSS_SELECTOR, \".\" + class_name)\n",
    "    if len(found) <= 0:\n",
    "        return \"\"\n",
    "    return found[0].text"
   ]
  },
  {
   "cell_type": "code",
   "execution_count": 30,
   "id": "4b47e714-f171-433f-a05a-b3a8b13671eb",
   "metadata": {},
   "outputs": [],
   "source": [
    "def login(driver):\n",
    "    driver.get(\"https://www.linkedin.com/login\")\n",
    "    time.sleep(wait_time)\n",
    "    with open('credentials.json') as f:\n",
    "        data = json.load(f)\n",
    "        USERNAME = data['username']\n",
    "        PASSWORD = data['password']\n",
    "    \n",
    "        username = driver.find_element(By.ID, \"username\")\n",
    "        username.send_keys(USERNAME)\n",
    "        time.sleep(wait_time)\n",
    "        \n",
    "        pword = driver.find_element(By.ID, \"password\")\n",
    "        pword.send_keys(PASSWORD) \n",
    "    time.sleep(wait_time)\n",
    "    \n",
    "    driver.find_element(By.XPATH, \"//button[@type='submit']\").click()\n",
    "    time.sleep(wait_time)"
   ]
  },
  {
   "cell_type": "code",
   "execution_count": 31,
   "id": "f22939c4-4973-4b92-b63b-10ee9dc5edfe",
   "metadata": {},
   "outputs": [],
   "source": [
    "def getJobData(driver):\n",
    "    job_posts = []\n",
    "    resultList = driver.find_element(By.CSS_SELECTOR, \".scaffold-layout__list-container\")\n",
    "    jobs = resultList.find_elements(By.CSS_SELECTOR, \".jobs-search-results__list-item\")\n",
    "    for job in jobs:\n",
    "        job_id = job.get_attribute('data-occludable-job-id')\n",
    "        \n",
    "        if (inBlackList(job.text) and job_id not in job_id_cache):\n",
    "            job_id_cache[job_id] = True\n",
    "            jobTitleContainerList = job.find_elements(By.CSS_SELECTOR, \".job-card-list__title\")\n",
    "            jobMetaData = job.find_elements(By.CSS_SELECTOR, \".job-card-container__metadata-item\")\n",
    "            posting_link = \"\"\n",
    "            job_title = \"\"\n",
    "            salary = \"\"\n",
    "            location = \"\"\n",
    "            today = date.today()\n",
    "            if len(jobMetaData) > 1:\n",
    "                location = jobMetaData[0].text\n",
    "            if len(jobMetaData) > 2:\n",
    "                salary = jobMetaData[1].text\n",
    "            if len(jobTitleContainerList) > 0:\n",
    "                posting_link = jobTitleContainerList[0].get_attribute('href')\n",
    "                job_title = jobTitleContainerList[0].text\n",
    "            company_name = get_element_text_by_classname(job, \"job-card-container__primary-description\")\n",
    "            if job_title != \"\" and inBlackList(job_title):\n",
    "                job_posts.append([job_id, job_title, company_name, location, salary, posting_link, today.strftime('%B %d, %Y')])\n",
    "    return job_posts"
   ]
  },
  {
   "cell_type": "code",
   "execution_count": 32,
   "id": "f99b111c-aa39-4cd5-b4e3-9b60dd392858",
   "metadata": {},
   "outputs": [],
   "source": [
    "def getJobDescriptions(driver, listOfJobs):\n",
    "    newJobList = []\n",
    "    for idx in range(len(listOfJobs)):\n",
    "        job = listOfJobs[idx]\n",
    "        print(job)\n",
    "        driver.get(job[5])\n",
    "        tvm_text = get_element_text_by_classname(driver, \"tvm__text tvm__text--neutral\")\n",
    "        # click expand button\n",
    "        driver.find_element(By.CSS_SELECTOR, \".jobs-description__footer-button\").click()\n",
    "        description = get_element_text_by_classname(driver, \"jobs-description-content__text\")\n",
    "        if (inBlackList(description[17:])):\n",
    "            newJobList.append(listOfJobs[idx] + [tvm_text] + [description[17:]])\n",
    "        \n",
    "        time.sleep(random.randint(0, 30))\n",
    "        \n",
    "    return newJobList\n"
   ]
  },
  {
   "cell_type": "code",
   "execution_count": 33,
   "id": "8a36ddc4-4483-457a-b8b3-05f4d5d625cd",
   "metadata": {},
   "outputs": [],
   "source": [
    "def openBrowserAndSearch():\n",
    "    options = Options()\n",
    "    options.add_argument('--ignore-certificate-errors')\n",
    "    driver = uc.Chrome(options)\n",
    "\n",
    "    login(driver)\n",
    "    time.sleep(wait_time)\n",
    "    # Go to job search page\n",
    "    URL = \"https://www.linkedin.com/jobs/search/?currentJobId=3822054670&f_E=2&f_TPR=r2592000&geoId=100017349&keywords=software%20engineer&location=80247%2C%20Denver%2C%20Colorado%2C%20United%20States&origin=JOB_SEARCH_PAGE_SEARCH_BUTTON&refresh=true\"\n",
    "    driver.get(URL)\n",
    "    time.sleep(wait_time)\n",
    "    return driver\n",
    "\n",
    "def main():\n",
    "    df = loadDataframe()\n",
    "    driver = openBrowserAndSearch()\n",
    "    jobsOnPage = getJobData(driver)\n",
    "    jobsOnPageWithDescription = getJobDescriptions(driver, jobsOnPage)\n",
    "    for job in jobsOnPageWithDescription:\n",
    "        df.loc[len(df.index)] = job\n",
    "        \n",
    "    df.to_csv(\"job_search_database.csv\", sep=',', index=False, encoding='utf-8')\n",
    "    saveDictionary(\"job_id_cache.pickle\", job_id_cache)"
   ]
  },
  {
   "cell_type": "code",
   "execution_count": 16,
   "id": "60645627-a7d9-4d8c-9aad-26ee7c6f76a5",
   "metadata": {},
   "outputs": [
    {
     "name": "stdout",
     "output_type": "stream",
     "text": [
      "relocation\n",
      "relocate\n",
      "TS/SCI\n",
      "clearance\n",
      "secret\n"
     ]
    },
    {
     "ename": "NameError",
     "evalue": "name 'job_id_cache' is not defined",
     "output_type": "error",
     "traceback": [
      "\u001b[1;31m---------------------------------------------------------------------------\u001b[0m",
      "\u001b[1;31mNameError\u001b[0m                                 Traceback (most recent call last)",
      "Cell \u001b[1;32mIn[16], line 1\u001b[0m\n\u001b[1;32m----> 1\u001b[0m \u001b[43mmain\u001b[49m\u001b[43m(\u001b[49m\u001b[43m)\u001b[49m\n",
      "Cell \u001b[1;32mIn[15], line 17\u001b[0m, in \u001b[0;36mmain\u001b[1;34m()\u001b[0m\n\u001b[0;32m     15\u001b[0m df \u001b[38;5;241m=\u001b[39m loadDataframe()\n\u001b[0;32m     16\u001b[0m driver \u001b[38;5;241m=\u001b[39m openBrowserAndSearch()\n\u001b[1;32m---> 17\u001b[0m jobsOnPage \u001b[38;5;241m=\u001b[39m \u001b[43mgetJobData\u001b[49m\u001b[43m(\u001b[49m\u001b[43mdriver\u001b[49m\u001b[43m)\u001b[49m\n\u001b[0;32m     18\u001b[0m jobsOnPageWithDescription \u001b[38;5;241m=\u001b[39m getJobDescriptions(driver, jobsOnPage)\n\u001b[0;32m     19\u001b[0m \u001b[38;5;28;01mfor\u001b[39;00m job \u001b[38;5;129;01min\u001b[39;00m jobsOnPageWithDescription:\n",
      "Cell \u001b[1;32mIn[13], line 8\u001b[0m, in \u001b[0;36mgetJobData\u001b[1;34m(driver)\u001b[0m\n\u001b[0;32m      5\u001b[0m \u001b[38;5;28;01mfor\u001b[39;00m job \u001b[38;5;129;01min\u001b[39;00m jobs:\n\u001b[0;32m      6\u001b[0m     job_id \u001b[38;5;241m=\u001b[39m job\u001b[38;5;241m.\u001b[39mget_attribute(\u001b[38;5;124m'\u001b[39m\u001b[38;5;124mdata-occludable-job-id\u001b[39m\u001b[38;5;124m'\u001b[39m)\n\u001b[1;32m----> 8\u001b[0m     \u001b[38;5;28;01mif\u001b[39;00m (checkBlackList(job\u001b[38;5;241m.\u001b[39mtext) \u001b[38;5;129;01mand\u001b[39;00m job_id \u001b[38;5;129;01mnot\u001b[39;00m \u001b[38;5;129;01min\u001b[39;00m \u001b[43mjob_id_cache\u001b[49m):\n\u001b[0;32m      9\u001b[0m         job_id_cache[job_id] \u001b[38;5;241m=\u001b[39m \u001b[38;5;28;01mTrue\u001b[39;00m\n\u001b[0;32m     10\u001b[0m         jobTitleContainerList \u001b[38;5;241m=\u001b[39m job\u001b[38;5;241m.\u001b[39mfind_elements(By\u001b[38;5;241m.\u001b[39mCSS_SELECTOR, \u001b[38;5;124m\"\u001b[39m\u001b[38;5;124m.job-card-list__title\u001b[39m\u001b[38;5;124m\"\u001b[39m)\n",
      "\u001b[1;31mNameError\u001b[0m: name 'job_id_cache' is not defined"
     ]
    }
   ],
   "source": [
    "main()"
   ]
  },
  {
   "cell_type": "code",
   "execution_count": 34,
   "id": "a30f97a8-07d6-4220-9bab-b0a75dda8447",
   "metadata": {},
   "outputs": [
    {
     "name": "stdout",
     "output_type": "stream",
     "text": [
      "['3843333593', 'Database/Web Engineer', 'Rincon Research Corporation', 'Centennial, CO (On-site)', '', 'https://www.linkedin.com/jobs/view/3843333593/?eBP=CwEAAAGOUz6zWSxY8JvhefAGscNFBSyLAAnbADdjQgp_84omb5LZ27CiVlc8_eZVjyllcWUgV_Rf1VFHx8dzUqAEOW6VYTGzgKAJEiTsxcItS2WYknsOGOpLXAV_6JWC9nMiurpeNeaSFTbx-Rc-2dVHb_3VzTVKQOPWdlKAHWDdPT5VImy2fuEJhwpRrky-YF_47GdB8dKDB8iuZq8IjDSCNTBxzFS1B_YTDHjViAh3oE8bJEQr92ZNd0LTErBFI548bVy6lLkC7ZwnJBUTSClBN-fDbmeyCZQpUO5XP2f_1bFY5KjLfV19VXi-V3aRaxX7M1JBcrLkun_zhZMpI6WWtw3DMbtHAotqlfu2yd2illUK1BVsFC4&refId=wvdqD6CcMpnov0h9eTomXA%3D%3D&trackingId=b%2FiO2B4dyI0VNQkvNiJmQQ%3D%3D&trk=flagship3_search_srp_jobs', 'March 18, 2024']\n",
      "['3823523203', 'AEM Developer', 'Tata Consultancy Services', '', '', 'https://www.linkedin.com/jobs/view/3823523203/?eBP=CwEAAAGOUz6zWQtAhAFjMAmmWLFLvPnMwtJNVbUWLNi9IniVXT_c3uZ-QSCS7gNBXT3YJNigHfFa-IywehbPNa5OKaqc09a-rCfCeRLEl1xrH17d_oijEdSHOtNPec2avL8yOaB97rZhHUmX9JE0ZowiGX-dNrhhJJ6b_YmSYQGzuNtSVJgK8NwIVKQe9FC_j_NxJwTaT1CPuWYnUne8UByndQQ3E8P8w5msGJ1bNYWKzz40zV8jghxVjM44QbU9pIpQoxAEflhamRf59m6_bxcLxBHjRu7txtpK7Ri6cH3d4n4BfvErOqywnsXP29eN0FWJO3UoDzZARSczMSVQuyt92GyArvaDoQBJzw7H-5EHQa4Ll1VuLbFm76F681834-ygyWd1rjgs4g2Sy-nWE_9zKA&refId=wvdqD6CcMpnov0h9eTomXA%3D%3D&trackingId=uZaqFsPANJ%2BXPwhlTzva%2Bg%3D%3D&trk=flagship3_search_srp_jobs', 'March 18, 2024']\n",
      "['3843536511', 'Advanced Database/Web Engineer', 'Rincon Research Corporation', 'Centennial, CO (On-site)', '', 'https://www.linkedin.com/jobs/view/3843536511/?eBP=CwEAAAGOUz6zWYnrsjTlJViCgLISNLT1e-NSjWzSF96DC6bEHv3pUEkj3w8x6YA-Vk612IgqMat9zvx5KR7ewIsw6lW9S76OsUUyelYrHwcz8K5ACyf6URDCpHR1poHMorF6lPiL6X46Uf-mhjFRh7kUUVPaS53UvvT-cUWKnMBA1QwgDIa5j2r8rHDBfDKZSqYsPZRZfDlWnyXNH9zZuUsLO0Upb4wFTGcXouoUbr5Kyyrrpj6h2BNymn0tFD4OK44GJRjtCCoF4wjuqd0XYBcM-ySY4_4q3tVJyax9lhOIjkWR5zZmj73DJxNadpb4S7CYj8lmvy2XFNcb8dHr_x1e0gSXYHQXgI1Ava1K5Kv7R7THrjYo&refId=wvdqD6CcMpnov0h9eTomXA%3D%3D&trackingId=OxUZR%2F0jQ%2FDQ2u3S5e9zdQ%3D%3D&trk=flagship3_search_srp_jobs', 'March 18, 2024']\n",
      "['3846451419', '2024 Fulltime- Raytheon Software Infrastructure Engineer I – Onsite', 'Raytheon', 'Aurora, CO (On-site)', '', 'https://www.linkedin.com/jobs/view/3846451419/?eBP=CwEAAAGOUz6zWReKSZniZopkE5JcwZTUF4MzYy2iH_H64BZDLMd4FgtBhu82AstIy01ElDKH6tp1d4XpHC1MVG-lOmRpj4NDFsdYnUcyN5eOWjSJUj5QkaZAFfGMmmQxa6zsAM9aDWS9_EZYNlR9jbcZvaLtZn8EVbjUzzuoue8v0bj-Du9mD4739M3X2JHYNu1tnMEd9xCJq-5mQ-aMjjSDwcVDJnKV7nsnsP2C65ARdTEdS93Y-mT3Yk-ZjgfZ_wIOgTI74P6RlHuIomkheJaFsJH-9phWbap69iXFxlbpNoogc2Yd4frwJzwg1JF02_rffo5Dau4MJuR7F_sXwUv-1CQD58NoqEo3OfqMfo8Mm5qDYgrxeBg&refId=wvdqD6CcMpnov0h9eTomXA%3D%3D&trackingId=lK4MamRlLZ6AcDkiWEKhmw%3D%3D&trk=flagship3_search_srp_jobs', 'March 18, 2024']\n",
      "['3730488628', 'Technical Lead, Software Development (Cerner)', 'DaVita Kidney Care', 'Denver, CO (On-site)', '', 'https://www.linkedin.com/jobs/view/3730488628/?eBP=CwEAAAGOUz6zWQlkmGU7kON7SjAyjE14RFl0BxqtE4uHrsgr6Hdw9zVFovNUCXQWnbAh-C4nP-9co_pc4_-vXjeKoqy_K58fKGRLXKOcPp3nBz6HI8G8yAxb3hZHpowMScvart5Sbu2sAiPaXIQ-70Uul-vK1u7JaoFx93qpBrxydUTSdhAvgvT6ijqu3yKsashhnA77lb9zzhZeOSQ0UBHJh0U9MBTb8Ccyx1ly8GZpv2nfHObLTTFDURmGwStL1gaJrm7RPyCcC_JqcsUFzvEiqaX69ktawnhkLvgHQDEFXUPX-I3pjanyTkHSXy_oWulqRObECc7qSKnpr-90TftsEBsyUuSdLg_uFm14LDo0MhvJFnbt&refId=wvdqD6CcMpnov0h9eTomXA%3D%3D&trackingId=QgkecjxXUTd26tdtouAslg%3D%3D&trk=flagship3_search_srp_jobs', 'March 18, 2024']\n"
     ]
    }
   ],
   "source": [
    "df = loadDataframe()\n",
    "driver = openBrowserAndSearch()\n",
    "jobsOnPage = getJobData(driver)\n",
    "jobsOnPageWithDescription = getJobDescriptions(driver, jobsOnPage)\n",
    "for job in jobsOnPageWithDescription:\n",
    "    df.loc[len(df.index)] = job\n",
    "        \n",
    "df.to_csv(\"job_search_database.csv\", sep=',', index=False, encoding='utf-8')\n",
    "saveDictionary(\"job_id_cache.pickle\", job_id_cache)"
   ]
  },
  {
   "cell_type": "code",
   "execution_count": null,
   "id": "5cb8734e-6255-44d8-b2a3-3933c1298b3f",
   "metadata": {},
   "outputs": [],
   "source": []
  }
 ],
 "metadata": {
  "kernelspec": {
   "display_name": "Python 3 (ipykernel)",
   "language": "python",
   "name": "python3"
  },
  "language_info": {
   "codemirror_mode": {
    "name": "ipython",
    "version": 3
   },
   "file_extension": ".py",
   "mimetype": "text/x-python",
   "name": "python",
   "nbconvert_exporter": "python",
   "pygments_lexer": "ipython3",
   "version": "3.12.2"
  }
 },
 "nbformat": 4,
 "nbformat_minor": 5
}
