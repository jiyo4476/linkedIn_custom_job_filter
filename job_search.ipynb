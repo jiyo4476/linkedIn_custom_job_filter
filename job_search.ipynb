{
 "cells": [
  {
   "cell_type": "code",
   "execution_count": 15,
   "id": "a2434c09-12ac-4f47-81f2-f5c00b4f5824",
   "metadata": {},
   "outputs": [],
   "source": [
    "import json\n",
    "import requests\n",
    "from bs4 import BeautifulSoup\n",
    "from datetime import date\n",
    "import time\n",
    "import random\n",
    "import pickle\n",
    "import pandas as pd\n",
    "import numpy as np\n",
    "import re\n",
    "import os"
   ]
  },
  {
   "cell_type": "code",
   "execution_count": 16,
   "id": "db671f64-f3d5-4025-949c-497c85ceb5c5",
   "metadata": {},
   "outputs": [],
   "source": [
    "import undetected_chromedriver as uc\n",
    "from selenium import webdriver\n",
    "from selenium.webdriver.common.by import By\n",
    "from selenium.webdriver.chrome.options import Options\n",
    "from selenium.common.exceptions import NoSuchElementException"
   ]
  },
  {
   "cell_type": "code",
   "execution_count": 17,
   "id": "21a0e982-8b62-4d7a-a4b3-ce19857d809b",
   "metadata": {},
   "outputs": [],
   "source": [
    "wait_time = 3\n",
    "def loadDataframe():\n",
    "    dataFrameEmpty = {\n",
    "        'id': [],\n",
    "        'title': [],\n",
    "        'company': [],\n",
    "        'location': [],\n",
    "        \"salary\": [],\n",
    "        'link': [],\n",
    "        \"retrieved_on\": [],\n",
    "        \"post_data\": [],\n",
    "        \"description\": []\n",
    "        \n",
    "    }\n",
    "    wait_time = 1\n",
    "    df = pd.DataFrame(dataFrameEmpty)\n",
    "    if os.path.exists('job_search_database.csv'):\n",
    "        df = pd.read_csv('job_search_database.csv')\n",
    "    return df\n"
   ]
  },
  {
   "cell_type": "code",
   "execution_count": 18,
   "id": "02a4e7d2-97db-4c01-b0ed-28ee4d378edf",
   "metadata": {},
   "outputs": [],
   "source": [
    "job_id_cache = {}\n",
    "if os.path.exists('job_id_cache.pickle'):\n",
    "    with open('job_id_cache.pickle', 'rb') as f:\n",
    "        # Pickle the dictionary\n",
    "        job_id_cache = pickle.load(f)"
   ]
  },
  {
   "cell_type": "code",
   "execution_count": 19,
   "id": "742f003a-7fad-4420-bbda-5c64ac9426ad",
   "metadata": {},
   "outputs": [],
   "source": [
    "blackList = []\n",
    "if os.path.exists(\"word_blacklist.json\"):\n",
    "    with open(\"word_blacklist.json\", \"r\") as f:\n",
    "        data = json.load(f)\n",
    "        blackList = data[\"blacklist\"]\n",
    "\n",
    "def checkBlackList(text):\n",
    "    for elm in blackList:\n",
    "        if re.search(elm, text.lower()) is not None:\n",
    "            return False\n",
    "    return True"
   ]
  },
  {
   "cell_type": "code",
   "execution_count": 20,
   "id": "188012ae-12fa-4aca-b4b0-71a9325042b1",
   "metadata": {},
   "outputs": [],
   "source": [
    "def saveDictionary(name, dict):\n",
    "    with open(name, 'wb') as f:\n",
    "        pickle.dump(dict, f)"
   ]
  },
  {
   "cell_type": "code",
   "execution_count": 21,
   "id": "523d7ab2-3ac5-44f5-83f9-c4cdd06fa162",
   "metadata": {},
   "outputs": [],
   "source": [
    "def get_element_text_by_classname(driver, class_name):\n",
    "    found = driver.find_elements(By.CSS_SELECTOR, \".\" + class_name)\n",
    "    if len(found) <= 0:\n",
    "        return \"\"\n",
    "    return found[0].text"
   ]
  },
  {
   "cell_type": "code",
   "execution_count": 22,
   "id": "4b47e714-f171-433f-a05a-b3a8b13671eb",
   "metadata": {},
   "outputs": [],
   "source": [
    "def login(driver):\n",
    "    driver.get(\"https://www.linkedin.com/login\")\n",
    "    time.sleep(wait_time)\n",
    "    with open('credentials.json') as f:\n",
    "        data = json.load(f)\n",
    "        USERNAME = data['username']\n",
    "        PASSWORD = data['password']\n",
    "    \n",
    "        username = driver.find_element(By.ID, \"username\")\n",
    "        username.send_keys(USERNAME)\n",
    "        time.sleep(wait_time)\n",
    "        \n",
    "        pword = driver.find_element(By.ID, \"password\")\n",
    "        pword.send_keys(PASSWORD) \n",
    "    time.sleep(wait_time)\n",
    "    \n",
    "    driver.find_element(By.XPATH, \"//button[@type='submit']\").click()\n",
    "    time.sleep(wait_time)"
   ]
  },
  {
   "cell_type": "code",
   "execution_count": 23,
   "id": "f22939c4-4973-4b92-b63b-10ee9dc5edfe",
   "metadata": {},
   "outputs": [],
   "source": [
    "def getJobData(driver):\n",
    "    job_posts = []\n",
    "    resultList = driver.find_element(By.CSS_SELECTOR, \".scaffold-layout__list-container\")\n",
    "    jobs = resultList.find_elements(By.CSS_SELECTOR, \".jobs-search-results__list-item\")\n",
    "    for job in jobs:\n",
    "        job_id = job.get_attribute('data-occludable-job-id')\n",
    "        \n",
    "        if (checkBlackList(job.text) and job_id not in job_id_cache):\n",
    "            job_id_cache[job_id] = True\n",
    "            jobTitleContainerList = job.find_elements(By.CSS_SELECTOR, \".job-card-list__title\")\n",
    "            jobMetaData = job.find_elements(By.CSS_SELECTOR, \".job-card-container__metadata-item\")\n",
    "            posting_link = \"\"\n",
    "            job_title = \"\"\n",
    "            salary = \"\"\n",
    "            location = \"\"\n",
    "            today = date.today()\n",
    "            if len(jobMetaData) > 1:\n",
    "                location = jobMetaData[0].text\n",
    "            if len(jobMetaData) > 2:\n",
    "                salary = jobMetaData[1].text\n",
    "            if len(jobTitleContainerList) > 0:\n",
    "                posting_link = jobTitleContainerList[0].get_attribute('href')\n",
    "                job_title = jobTitleContainerList[0].text\n",
    "            company_name = get_element_text_by_classname(job, \"job-card-container__primary-description\")\n",
    "            if job_title != \"\" and checkBlackList(job_title):\n",
    "                job_posts.append([job_id, job_title, company_name, location, salary, posting_link, today.strftime('%B %d, %Y')])\n",
    "    return job_posts"
   ]
  },
  {
   "cell_type": "code",
   "execution_count": 24,
   "id": "f99b111c-aa39-4cd5-b4e3-9b60dd392858",
   "metadata": {},
   "outputs": [],
   "source": [
    "def getJobDescriptions(driver, listOfJobs):\n",
    "    newJobList = []\n",
    "    for idx in range(len(listOfJobs)):\n",
    "        job = listOfJobs[idx]\n",
    "        print(job)\n",
    "        driver.get(job[5])\n",
    "        tvm_text = get_element_text_by_classname(driver, \"tvm__text tvm__text--neutral\")\n",
    "        # click expand button\n",
    "        driver.find_element(By.CSS_SELECTOR, \".jobs-description__footer-button\").click()\n",
    "        description = get_element_text_by_classname(driver, \"jobs-description-content__text\")\n",
    "        if (checkBlackList(description[17:])):\n",
    "            newJobList.append(listOfJobs[idx] + [tvm_text] + [description[17:]])\n",
    "        \n",
    "        time.sleep(random.randint(0, 30))\n",
    "        \n",
    "    return newJobList\n"
   ]
  },
  {
   "cell_type": "code",
   "execution_count": 25,
   "id": "8a36ddc4-4483-457a-b8b3-05f4d5d625cd",
   "metadata": {},
   "outputs": [],
   "source": [
    "def openBrowserAndSearch():\n",
    "    options = Options()\n",
    "    options.add_argument('--ignore-certificate-errors')\n",
    "    driver = uc.Chrome(options)\n",
    "\n",
    "    login(driver)\n",
    "    time.sleep(wait_time)\n",
    "    # Go to job search page\n",
    "    URL = \"https://www.linkedin.com/jobs/search/?currentJobId=3822054670&f_E=2&f_TPR=r2592000&geoId=100017349&keywords=software%20engineer&location=80247%2C%20Denver%2C%20Colorado%2C%20United%20States&origin=JOB_SEARCH_PAGE_SEARCH_BUTTON&refresh=true\"\n",
    "    driver.get(URL)\n",
    "    time.sleep(wait_time)\n",
    "    return driver\n",
    "\n",
    "def main():\n",
    "    df = loadDataframe()\n",
    "    driver = openBrowserAndSearch()\n",
    "    jobsOnPage = getJobData(driver)\n",
    "    jobsOnPageWithDescription = getJobDescriptions(driver, jobsOnPage)\n",
    "    for job in jobsOnPageWithDescription:\n",
    "        df.loc[len(df.index)] = job\n",
    "        \n",
    "    df.to_csv(\"job_search_database.csv\", sep=',', index=False, encoding='utf-8')\n",
    "    saveDictionary(\"job_id_cache.pickle\", job_id_cache)"
   ]
  },
  {
   "cell_type": "code",
   "execution_count": 26,
   "id": "60645627-a7d9-4d8c-9aad-26ee7c6f76a5",
   "metadata": {},
   "outputs": [
    {
     "name": "stdout",
     "output_type": "stream",
     "text": [
      "['3841120639', 'Software Development Engineer in Test', 'Charles Schwab', 'Lone Tree, CO (On-site)', '', 'https://www.linkedin.com/jobs/view/3841120639/?eBP=CwEAAAGOLz3grOZbT_dF7Wtq0YsYFdJrEiKyDCW46DqwOnsXsBOc9tstsl7bHOCa5TTchUovPx1UEiMv4UNNv8FG6rlKnpA9H6Usf7_pn8GlJOuOshrXqPOSfq9I6K7twzDs4_isXtqnjnTV15IyteNT5FIvix0AgtSGLUrOcG8kxvDxXtWxIXeMFAvtJkGuYs-ar5ZQIwmB-tPRXpAr41uvq-2KyfEOCSWwNmbaI3RZDwTuwKzQ6n2h8jLMNHVVRf5cJfutwU1dZWvVbqjVNZeLMzl3S2dbFjVQ6wDs4BZvMF6pA7oW7QyiqSOiNJRN8GX-Agunh1l0udWL9G38_kKxYJ-Sv0WqclSMo3BSaJIe2lJZFgd5ZNzKmK1Q8-4uE8_HS1AJRPH5SxnPTBm6Zk05kC-1LIo&refId=tsVJw8YYInwnA9Zf%2BIIpug%3D%3D&trackingId=WmRD6yzLfaUVeKZ43S%2BzGw%3D%3D&trk=flagship3_search_srp_jobs', 'March 11, 2024']\n",
      "['3822054670', 'Java Developer', 'Tata Consultancy Services', '', '', 'https://www.linkedin.com/jobs/view/3822054670/?eBP=CwEAAAGOLz3grBQGxzNHj8rRbtAIJPEzxvI09M3mrg3osx8ocQoun-dfGl2w0pTjSdvLbH3VxP92MOJTGuUkCy8_kWGoeP5VZ4aIKf8S02XroVl1GXvRpRF2RIrvWZeqCrHEl3SNBqWWn1wbKBqOZWBB1G9CJhB1bDlYg17j0eQkUqMheFHMQYlF5R68QN0oK2Kam7HtkujBI2LG1cYDtSYZc5crhF30XtWL9jgcn2A4VG-pNvzQjhinhcEQZ7laFfVIzovnTpS4PXZ-3l8LOv3dd--06maNE21IvYi0F40CYI7pZ939cCq9GoZRUXsEf_I99DiOcj6XNUQJAkhfbD1YYWqq1omDf9959LogEWTlPb2zaasFOGKo2RDYllZND4AcToytg_J2ydm1G7nHwRekjbgIWbQ&refId=tsVJw8YYInwnA9Zf%2BIIpug%3D%3D&trackingId=0Y%2FM7VDfSX9KVNSWLmpK0w%3D%3D&trk=flagship3_search_srp_jobs', 'March 11, 2024']\n",
      "['3777051512', 'Infrastructure Engineer - Linux (Onsite)', 'Raytheon', 'Aurora, CO (On-site)', '', 'https://www.linkedin.com/jobs/view/3777051512/?eBP=CwEAAAGOLz3grNcy5LyVh3gkj7OoRdh5xjf8QoDQjkDrkof7YvqDmnnEUQSWVMSagvxciyOOBbQv0cdj7QQJWuQHHMHygdqZdKFQ4YtQzWsXzzKrX-kQ_QPCCJmcdZccOPS5D4-GZrxuDDF_dmG27u-Xy6JBmmaLG_tbVoOBPzedvaPrjUZIvvmpNAahEw_OwTjjK6qk4LE-Ztcst9kyDK0-s3ck1CpVK3quu_3ocRIgW-3EnA4ll_2tQ70YZr7ZuLhQFJ6-CNYEuQV7iH9oUeJBy8wErtYOalbAmWHDBh44xr56IUeiswqSYOoHZcX_OWdWirqDauJ6vvtcXXYHJfEskFNPCqS0RAk77wuAfccMlkpAZIX18YmMPxNTciu82TmFwCEbIn4NxJixSiMiUG1NPpct&refId=tsVJw8YYInwnA9Zf%2BIIpug%3D%3D&trackingId=imf1Xs6b4jgdQZ7u40YtlA%3D%3D&trk=flagship3_search_srp_jobs', 'March 11, 2024']\n",
      "['3831515825', 'Java Software Engineer (Onsite)', 'Raytheon', 'Aurora, CO (On-site)', '', 'https://www.linkedin.com/jobs/view/3831515825/?eBP=CwEAAAGOLz3grMJ--z-G28htKnb1dfomfRi3bAsyiobn7RedwBDPGwAuAqSTexsMcvUHCYj12WcaAysZjCRBxtLxoOczLUQHngGYth-wepNQhVZ7B3Z4sYVy0gITNrRv-ZYxoCPDumCNzMN8QoJqXvPMAH92C6cq4D_z-y4UI5ra4izB6Tw10ZS1alGvKzLJ4-MdKumc0TJUlHv4yS_jUr4Lyq_feRNLdDBGmQGzGx6813b-v8uA_iiDXX5nvxxbcNINN7qDCHG4qpE6ro-rqXrU-ftYCamFRSQ0vYtHlFXFYLMyh0VzLmOWuqRLfylET6cAx6_TuyoG335KYXWUCUXP9tyAbUHnlwKCEXU7QFNLsiCfo9mYDi47z2nsYVv2msrIuOlsFZBkKBHWr-cUoiJAi1XDFo4&refId=tsVJw8YYInwnA9Zf%2BIIpug%3D%3D&trackingId=RZ%2BhZGhPPRfP01iyQJwsTA%3D%3D&trk=flagship3_search_srp_jobs', 'March 11, 2024']\n",
      "['3845777305', 'Ground Software Engineer', 'Actalent', '', '', 'https://www.linkedin.com/jobs/view/3845777305/?eBP=CwEAAAGOLz3grPZLFkCkS-gJiaRozFT8FvLhyjASTqIYCM-JEqX5oDwoN6D0YDPm8cXi2qkRD1SzFXTcKWpJUl1yiJ5e356A3XXM4Prm7TmmqF3nDCX62uX7qPouJdbjqdll5WfkrI86EHGHtkS2PqImEdki7nl9zqhw77XjzeO0TEC4S8Zqz1qwFM5ZAm_TgokbPYpZTgQuMW5RZDs78-jJs_RYpWLGIaGOX7YWzoOz9tNwU-tPfUD8acXOxoOXN_eCaLwrTZRfnlLh6AHw9oaN1LD0SJ4DZzob9Letfgy-FP2-OXdInLZA3H3Am7P-GH-TKFnIhVopR31_c2tDJ6qhWdMh38X8hxBYrfGCkGj9HtV-MNqYH5tWoWXx--kD_tGdufJCeafkp70DjcAoxBJ31Mf3oe4&refId=tsVJw8YYInwnA9Zf%2BIIpug%3D%3D&trackingId=D%2F1iiKMhD%2BMUVqWLf7FoEQ%3D%3D&trk=flagship3_search_srp_jobs', 'March 11, 2024']\n",
      "['3831952564', 'Software Engineer 2 (Java, Spring Boot, AWS)', 'U.S. Bank', 'Denver, CO', '', 'https://www.linkedin.com/jobs/view/3831952564/?eBP=CwEAAAGOLz3grFPZcdKzy3MVLlG_bcEI_As-JjjjRHa8ZAK87EApoc6CM4O48LVeOPCxWedMoxFKf7LwGI38n0HmCB6u5UvXPLvYxpsjgGD4u14ljZb29COZebNT_6Vk0CA9BIwj6Bgnd_Qzc2bVuXmrKTzPia5TB8tu_-31ggn6VO0IjmJPgPvItc_sqAnZt2168-RfVsL3IkV6BZFjggXJ9mpRyU3vhANnVsiR6zWWqQkwNgiXEB3FExt7IdHCSyfKQt21Olwg2dra-J300Oojz5uWY7LUdTi5a70FLNgBkVBGZe5893PtXF0S53iXZch5M2GBLvgvUPq0qQLkV93Ns4DSOUyX26t1Fy5BIu6JXMKbReVRAUS3LVphUbrpP58DXPCJwAyTfiEfTKaMBPMciJLOujG7Ww&refId=tsVJw8YYInwnA9Zf%2BIIpug%3D%3D&trackingId=mku3D9SKIHQzNapsB5VleQ%3D%3D&trk=flagship3_search_srp_jobs', 'March 11, 2024']\n",
      "['3830734256', 'Software Engineer 2 (Java, Spring Boot)', 'U.S. Bank', '', '', 'https://www.linkedin.com/jobs/view/3830734256/?eBP=CwEAAAGOLz3grAl6MNON6sIG2dpQcOvMDBaMu3sOIbn48qku3iJUvQhpaSaaye6Qqemho8uGoDrJwo3L6J9CfU-f65Ti3_fu82PwQlQ4n2xR62fBMMZnWPzN1JD4R6hHb78sUfhjP0UXtdqeDWeES8k-wlfWbg00ZOv_qQXylr7CsERSWgf-H7vhqDzyh3-cRT-VKlAvXlonbZrdsD-30f-RFAUvcJby7SVJDVD7WJrug7dcuUeTPSNg3bB4EVEZTDA5TrwP5UBWfzfuE1QTiiov6P-KcL_YhRKuUg-f5I6DE1nvwwv1_E6oZR3xVaevD-9WM0Tup1KhU7dN_X-dEQIsrT6g2P2cVYhPH0am9GTS2YA7BUr4ptZYffPWwE52SBR0jJm5kvYJHSYf902ZnoYXaeFco9RDxg&refId=tsVJw8YYInwnA9Zf%2BIIpug%3D%3D&trackingId=73m%2BBVBqAhu6CPJHnqQn%2Fg%3D%3D&trk=flagship3_search_srp_jobs', 'March 11, 2024']\n"
     ]
    }
   ],
   "source": [
    "main()"
   ]
  },
  {
   "cell_type": "code",
   "execution_count": null,
   "id": "5cb8734e-6255-44d8-b2a3-3933c1298b3f",
   "metadata": {},
   "outputs": [],
   "source": []
  }
 ],
 "metadata": {
  "kernelspec": {
   "display_name": "Python 3 (ipykernel)",
   "language": "python",
   "name": "python3"
  },
  "language_info": {
   "codemirror_mode": {
    "name": "ipython",
    "version": 3
   },
   "file_extension": ".py",
   "mimetype": "text/x-python",
   "name": "python",
   "nbconvert_exporter": "python",
   "pygments_lexer": "ipython3",
   "version": "3.12.2"
  }
 },
 "nbformat": 4,
 "nbformat_minor": 5
}
