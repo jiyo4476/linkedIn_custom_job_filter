{
 "cells": [
  {
   "cell_type": "code",
   "execution_count": 1,
   "id": "a2434c09-12ac-4f47-81f2-f5c00b4f5824",
   "metadata": {},
   "outputs": [],
   "source": [
    "from configparser import ConfigParser\n",
    "import json\n",
    "import requests\n",
    "from bs4 import BeautifulSoup\n",
    "from datetime import date\n",
    "import time\n",
    "import random\n",
    "import pickle\n",
    "import pandas as pd\n",
    "import numpy as np\n",
    "import re\n",
    "import os"
   ]
  },
  {
   "cell_type": "code",
   "execution_count": 3,
   "id": "db671f64-f3d5-4025-949c-497c85ceb5c5",
   "metadata": {},
   "outputs": [],
   "source": [
    "import undetected_chromedriver as uc\n",
    "from selenium import webdriver\n",
    "from selenium.webdriver.common.by import By\n",
    "from selenium.webdriver.chrome.options import Options\n",
    "from selenium.common.exceptions import NoSuchElementException"
   ]
  },
  {
   "cell_type": "code",
   "execution_count": 71,
   "id": "ef0cb222-8fc9-49f7-8062-0492c57c9dce",
   "metadata": {},
   "outputs": [
    {
     "ename": "NameError",
     "evalue": "name 'self' is not defined",
     "output_type": "error",
     "traceback": [
      "\u001b[1;31m---------------------------------------------------------------------------\u001b[0m",
      "\u001b[1;31mNameError\u001b[0m                                 Traceback (most recent call last)",
      "Cell \u001b[1;32mIn[71], line 5\u001b[0m\n\u001b[0;32m      3\u001b[0m     \u001b[38;5;28;01mwith\u001b[39;00m \u001b[38;5;28mopen\u001b[39m(\u001b[38;5;124m\"\u001b[39m\u001b[38;5;124mword_blacklist.json\u001b[39m\u001b[38;5;124m\"\u001b[39m, \u001b[38;5;124m\"\u001b[39m\u001b[38;5;124mr\u001b[39m\u001b[38;5;124m\"\u001b[39m) \u001b[38;5;28;01mas\u001b[39;00m f:\n\u001b[0;32m      4\u001b[0m         data \u001b[38;5;241m=\u001b[39m json\u001b[38;5;241m.\u001b[39mload(f)\n\u001b[1;32m----> 5\u001b[0m         \u001b[38;5;28;43mself\u001b[39;49m\u001b[38;5;241m.\u001b[39mblackList \u001b[38;5;241m=\u001b[39m data[\u001b[38;5;124m\"\u001b[39m\u001b[38;5;124mblacklist\u001b[39m\u001b[38;5;124m\"\u001b[39m]\n\u001b[0;32m      7\u001b[0m \u001b[38;5;28;01mdef\u001b[39;00m \u001b[38;5;21minBlackList\u001b[39m(text):\n\u001b[0;32m      8\u001b[0m         \u001b[38;5;28;01mfor\u001b[39;00m elm \u001b[38;5;129;01min\u001b[39;00m \u001b[38;5;28mself\u001b[39m\u001b[38;5;241m.\u001b[39mblackList:\n",
      "\u001b[1;31mNameError\u001b[0m: name 'self' is not defined"
     ]
    }
   ],
   "source": [
    "blackList=[]\n",
    "if os.path.exists(\"word_blacklist.json\"):\n",
    "    with open(\"word_blacklist.json\", \"r\") as f:\n",
    "        data = json.load(f)\n",
    "        self.blackList = data[\"blacklist\"]\n",
    "        \n",
    "def inBlackList(text):\n",
    "        for elm in self.blackList:\n",
    "            serachResult = re.search(elm, text.lower())\n",
    "            if serachResult is not None:\n",
    "                print(f\"found {elm} in blackList\")\n",
    "                print(text)\n",
    "                return False\n",
    "        return True\n",
    "\n",
    "print(inBlackList(\"no relocation\"))"
   ]
  },
  {
   "cell_type": "code",
   "execution_count": 68,
   "id": "0255a0d1-a7d2-4fec-b6b0-74aee1ae00ac",
   "metadata": {},
   "outputs": [],
   "source": [
    "class JobSearchLinkedIn:\n",
    "    def __init__(self):\n",
    "        self.wait_time = 3\n",
    "        self.config = ConfigParser()\n",
    "        self.config.read('config.ini')\n",
    "        self.job_id_cache = self.loadJobCache()\n",
    "        self.blackList = []\n",
    "        self.searchParam = {}\n",
    "        self.loadDefaultSearchParam()\n",
    "        self.df = self.loadDataframe()\n",
    "        self.driver = self.openBrowser()\n",
    "        \n",
    "    def loadJobCache(self):\n",
    "        job_ids = {}\n",
    "        if os.path.exists('job_id_cache.pickle'):\n",
    "            with open('job_id_cache.pickle', 'rb') as f:\n",
    "                # Pickle the dictionary\n",
    "                job_ids = pickle.load(f)\n",
    "        print(job_ids)\n",
    "        return job_ids\n",
    "\n",
    "    def loadDefaultSearchParam(self):\n",
    "        if os.path.exists(\"search_param.json\"):\n",
    "            with open(\"search_param.json\", \"r\") as f:\n",
    "                data = json.load(f)\n",
    "                self.searchParam = data\n",
    "                \n",
    "    def loadBlackList(self):\n",
    "        if os.path.exists(\"word_blacklist.json\"):\n",
    "            with open(\"word_blacklist.json\", \"r\") as f:\n",
    "                data = json.load(f)\n",
    "                self.blackList = data[\"blacklist\"]\n",
    "\n",
    "    def inBlackList(self, text):\n",
    "        for elm in self.blackList:\n",
    "            serachResult = re.search(elm, text.lower())\n",
    "            if serachResult is not None:\n",
    "                print(f\"found {elm} in blackList\")\n",
    "                print(text)\n",
    "                return False\n",
    "        return True\n",
    "\n",
    "    def loadDataframe(self):\n",
    "        dataFrameEmpty = {\n",
    "            'id': [],\n",
    "            'title': [],\n",
    "            'company': [],\n",
    "            'location': [],\n",
    "            'link': [],\n",
    "            \"retrieved_on\": [],\n",
    "            \"salary\": [],\n",
    "            \"applicants\": [],\n",
    "            \"description\": []\n",
    "            \n",
    "        }\n",
    "        df = pd.DataFrame(dataFrameEmpty)\n",
    "        if os.path.exists('job_search_database.csv'):\n",
    "            df = pd.read_csv('job_search_database.csv')\n",
    "        return df\n",
    "\n",
    "    def openBrowser(self):\n",
    "        options = Options()\n",
    "        options.add_argument('--ignore-certificate-errors')\n",
    "        return uc.Chrome(options)\n",
    "\n",
    "    def login(self):\n",
    "        self.driver.get(\"https://www.linkedin.com/login\")\n",
    "        time.sleep(self.wait_time)\n",
    "        \n",
    "        # Input Username and pass\n",
    "        username = self.driver.find_element(By.ID, \"username\")\n",
    "        username.send_keys(self.config['account']['username'])\n",
    "            \n",
    "        pword = self.driver.find_element(By.ID, \"password\")\n",
    "        pword.send_keys(self.config['account']['password']) \n",
    "        time.sleep(self.wait_time)\n",
    "            \n",
    "        self.driver.find_element(By.XPATH, \"//button[@type='submit']\").click()\n",
    "        time.sleep(self.wait_time)\n",
    "\n",
    "    def getLinkedInSearchURL(self):\n",
    "        if len(self.searchParam.keys()) <= 0:\n",
    "            return \"https://www.linkedin.com/jobs/?\"\n",
    "        return f\"https://www.linkedin.com/jobs/search/?currentJobId={self.searchParam[\"currentJobId\"]}&distance={self.searchParam['distance']}&f_E=2&f_WT=1%2C3%2C2&geoId={self.searchParam['geoID']}&keywords={self.searchParam['keywords']}&origin=JOB_COLLECTION_PAGE_KEYWORD_HISTORY&refresh=true\"\n",
    "    \n",
    "    def testSoup(self):\n",
    "        #self.driver.get(self.getLinkedInSearchURL())\n",
    "        #time.sleep(self.wait_time)\n",
    "        #items = self.driver.find_elements(By.TAG_NAME, \"ul\")\n",
    "        items = self.driver.find_elements(By.CSS_SELECTOR, \".job-search-card\")\n",
    "        return items\n",
    "            \n",
    "    def getJobData(self):\n",
    "        self.driver.get(self.getLinkedInSearchURL())\n",
    "        time.sleep(self.wait_time)\n",
    "        blackListedJobs = 0\n",
    "        job_posts = []\n",
    "        # get job Search base\n",
    "        resultList = []\n",
    "        #resultList = self.driver.find_elements(By.TAG_NAME, \"li\")\n",
    "        resultList = self.driver.find_element(By.CSS_SELECTOR, \".scaffold-layout__list-container\")\n",
    "        #jobs = resultList.find_elements(By.CSS_SELECTOR, \".job-search-card\")\n",
    "        jobs = resultList.find_elements(By.TAG_NAME, \"li\")\n",
    "        for job in jobs:\n",
    "            job_id = job.get_attribute('data-reference-id')\n",
    "            #print(job.text)\n",
    "            if (self.inBlackList(job.text) and job_id not in self.job_id_cache):\n",
    "                self.job_id_cache[job_id] = True\n",
    "                jobTitleContainerList = job.find_elements(By.CSS_SELECTOR, \".job-card-list__title\")\n",
    "                jobMetaData = job.find_elements(By.CSS_SELECTOR, \".job-card-container__metadata-item\")\n",
    "                posting_link = \"\"\n",
    "                salary = \"\"\n",
    "                job_title = \"\"\n",
    "                location = \"\"\n",
    "                today = date.today()\n",
    "                if len(jobMetaData) > 1:\n",
    "                    location = jobMetaData[0].text\n",
    "                if len(jobMetaData) > 2:\n",
    "                    salary = jobMetaData[1].text\n",
    "                if len(jobTitleContainerList) > 0:\n",
    "                    posting_link = jobTitleContainerList[0].get_attribute('href')\n",
    "                    job_title = jobTitleContainerList[0].text\n",
    "                company_name = job.find_elements(By.CSS_SELECTOR, \".job-card-container__primary-description\")\n",
    "                #self.get_element_text_by_classname(job, \"job-card-container__primary-description\")\n",
    "                if job_title != \"\":\n",
    "                    job_posts.append([job_id, job_title, company_name, location, posting_link, today.strftime('%B %d, %Y'), salary])\n",
    "            else:\n",
    "                blackListedJobs += 1\n",
    "        print(f\"Found {len(jobs)} jobs, {blackListedJobs} were seen before or blacklisted\")\n",
    "        return job_posts\n",
    "\n",
    "    def getJobDescriptions(self, listOfJobs):\n",
    "        newJobList = []\n",
    "        blackListedJobs = 0\n",
    "        for idx in range(len(listOfJobs)):\n",
    "            job = listOfJobs[idx]\n",
    "            self.driver.get(job[4])\n",
    "            #salary = self.get_element_text_by_classname(job, \"job-details-jobs-unified-top-card__job-insight job-details-jobs-unified-top-card__job-insight--highlight\")\n",
    "            #numApplicants = self.get_element_text_by_classname(job, \".num-applicants__caption\")\n",
    "            tvm_text = self.get_element_text_by_classname(self.driver, \"tvm__text tvm__text--neutral\")\n",
    "            # click expand button\n",
    "            self.driver.find_element(By.CSS_SELECTOR, \".jobs-description__footer-button\").click()\n",
    "            description = self.get_element_text_by_classname(self.driver, \"jobs-description-content__text\")\n",
    "            #print(description)\n",
    "            description.replace(\",\", \" \")\n",
    "            if (self.inBlackList(description[17:]) == False):\n",
    "                newJobList.append(listOfJobs[idx] + [tvm_text] + [description[17:]])\n",
    "            \n",
    "            time.sleep(random.randint(0, 30))\n",
    "            \n",
    "        print(f\"Checked {len(listOfJobs)} jobs, {blackListedJobs} were blacklisted\")\n",
    "        \n",
    "        for job in newJobList:\n",
    "            self.df.loc[len(self.df.index)] = job\n",
    "\n",
    "    def get_element_text_by_classname(self, documentObject, class_name):\n",
    "        found = documentObject.find_elements(By.CSS_SELECTOR, \".\" + class_name)\n",
    "        if len(found) <= 0:\n",
    "            return \"\"\n",
    "        return found[0].text\n",
    "\n",
    "    def saveDictionary(name, dict):\n",
    "        with open(name, 'wb') as f:\n",
    "            pickle.dump(dict, f)\n",
    "\n",
    "    def save(self):\n",
    "        self.df.to_csv(\"job_search_database.csv\", sep=',', index=False, encoding='utf-8')\n",
    "        self.saveDictionary(\"job_id_cache.pickle\", self.job_id_cache)"
   ]
  },
  {
   "cell_type": "code",
   "execution_count": 69,
   "id": "8a36ddc4-4483-457a-b8b3-05f4d5d625cd",
   "metadata": {},
   "outputs": [],
   "source": [
    "def main():\n",
    "    jobSearch = JobSearchLinkedIn()\n",
    "    jobSearch.login()\n",
    "    jobData = jobSearch.getJobData()\n",
    "    print(jobData)\n",
    "    jobsOnPageWithDescription = jobSearch.getJobDescriptions(jobData)\n",
    "    print(jobSearch.df)\n",
    "\n",
    "    #jobSearch.save()"
   ]
  },
  {
   "cell_type": "code",
   "execution_count": 70,
   "id": "60645627-a7d9-4d8c-9aad-26ee7c6f76a5",
   "metadata": {},
   "outputs": [
    {
     "name": "stdout",
     "output_type": "stream",
     "text": [
      "{}\n",
      "Found 49 jobs, 48 were seen before or blacklisted\n",
      "[[None, 'Rails Developer', [<undetected_chromedriver.webelement.WebElement (session=\"8b21290f8221685efeee06be63447233\", element=\"f.5A31F155714E5F081296C4828BE294E7.d.869AC6F1BEE13F0B43962FEA04E8F660.e.283\")>], 'Denver, CO (Hybrid)', 'https://www.linkedin.com/jobs/view/3833818124/?eBP=CwEAAAGOWVsOOncoCSzyiW_FrlHK4FYH5bUmvIYYtZsq4tS4TajSk7BnVy1HAKSCytdmLIpa9W3Tea5UG-HWZJJHLz66rqRt3iSCsnIl512Zu5Dxx0JfEeIxS4_3sdUW7ZpaVTVnLcSXTti0DixvSk1gmPPJT7od0yyeZyG_JV69M78fSaJKlV6abHTyhHw4JGB-edkwEis5Dj2NZD4BsWA8affz7-ccFKnYLaYlILnK_E3k25FHutK1kG1LTR5oyUjQXyMHB2bGKwE-8D6t-752We-HbS8Kbp4v1F6zGqAeRrQiANmr5eUAJGDe0e7d8TOsX8-2zaf77FEeZxZLYONVd_vyImS2Gfi4DtQneRSJy8yLO4_npItg_0veJgih6so2n-jzbJjDmBwhlYQUrwB0HB6w&refId=nCCd4bIbgfGdtzSua4Cmow%3D%3D&trackingId=8TS2SPe3jGadQVrDEqPVLQ%3D%3D&trk=flagship3_search_srp_jobs', 'March 19, 2024', '']]\n",
      "Checked 1 jobs, 0 were blacklisted\n",
      "           id                                          title  \\\n",
      "0  3841120639          Software Development Engineer in Test   \n",
      "1  3822054670                                 Java Developer   \n",
      "2  3845777305                       Ground Software Engineer   \n",
      "3  3831952564   Software Engineer 2 (Java, Spring Boot, AWS)   \n",
      "4  3830734256        Software Engineer 2 (Java, Spring Boot)   \n",
      "5  3823523203                                  AEM Developer   \n",
      "6  3730488628  Technical Lead, Software Development (Cerner)   \n",
      "\n",
      "                     company                 location  salary  \\\n",
      "0             Charles Schwab  Lone Tree, CO (On-site)     NaN   \n",
      "1  Tata Consultancy Services                      NaN     NaN   \n",
      "2                   Actalent                      NaN     NaN   \n",
      "3                  U.S. Bank               Denver, CO     NaN   \n",
      "4                  U.S. Bank                      NaN     NaN   \n",
      "5  Tata Consultancy Services                      NaN     NaN   \n",
      "6         DaVita Kidney Care     Denver, CO (On-site)     NaN   \n",
      "\n",
      "                                                link    retrieved_on  \\\n",
      "0  https://www.linkedin.com/jobs/view/3841120639/...  March 11, 2024   \n",
      "1  https://www.linkedin.com/jobs/view/3822054670/...  March 11, 2024   \n",
      "2  https://www.linkedin.com/jobs/view/3845777305/...  March 11, 2024   \n",
      "3  https://www.linkedin.com/jobs/view/3831952564/...  March 11, 2024   \n",
      "4  https://www.linkedin.com/jobs/view/3830734256/...  March 11, 2024   \n",
      "5  https://www.linkedin.com/jobs/view/3823523203/...  March 18, 2024   \n",
      "6  https://www.linkedin.com/jobs/view/3730488628/...  March 18, 2024   \n",
      "\n",
      "   post_data                                        description  \n",
      "0        NaN  r Opportunity\\n\\nPersonalized Investing Engine...  \n",
      "1        NaN   Title \\n\\nJava Developer\\n\\nRelevant Experien...  \n",
      "2        NaN  cription\\n\\nProviding end-to-end space solutio...  \n",
      "3        NaN  U.S. Bank, we’re on a journey to do our best. ...  \n",
      "4        NaN  eader in the payments industry, Elavon provide...  \n",
      "5        NaN   Title \\n\\nAEM Developer\\n\\n Work Location  (S...  \n",
      "6        NaN                                                NaN  \n"
     ]
    }
   ],
   "source": [
    "main()"
   ]
  },
  {
   "cell_type": "code",
   "execution_count": 43,
   "id": "35b9368e-d414-40e2-a6ee-52a255a34228",
   "metadata": {},
   "outputs": [],
   "source": [
    "jobSearch = JobSearchLinkedIn()"
   ]
  },
  {
   "cell_type": "code",
   "execution_count": 44,
   "id": "036b533f-a625-4f60-abe2-8722ffaabf94",
   "metadata": {},
   "outputs": [],
   "source": [
    "jobSearch.login()"
   ]
  },
  {
   "cell_type": "code",
   "execution_count": 45,
   "id": "bf41e78c-2446-4683-8723-803455ace4a8",
   "metadata": {},
   "outputs": [
    {
     "name": "stdout",
     "output_type": "stream",
     "text": [
      "Found 64 jobs, 63 were seen before or blacklisted\n"
     ]
    }
   ],
   "source": [
    "jobData = jobSearch.getJobData()"
   ]
  },
  {
   "cell_type": "code",
   "execution_count": 46,
   "id": "a11fac07-8c32-4250-bbe0-40729b5fa77c",
   "metadata": {},
   "outputs": [
    {
     "name": "stdout",
     "output_type": "stream",
     "text": [
      "[[None, 'Software Developer', 'Rise Broadband', 'Englewood, CO (On-site)', 'https://www.linkedin.com/jobs/view/3813296475/?eBP=CwEAAAGOWGs1NDbFxkmXsecy5oD6JinQghKFfUbrElgrF8b62YeBNLQplJrDBrBFm-TL2UCAGb9M_MA_jvcUwAeq2Qfh1I7KE3b6C8f4FVeb8cuAAiN2ayVbJT0dEzQyfyG4JU7Ob4UXrM3wQ3HPfAfk4iyUNHiL21XsGNyNbXFfNOT9APj90rtu3BI1_WFlz68HVuhDGbk20KRmOScjBRJfrsjtca8BuI23G8fW_sUkQ28kEf9yL-zfLn3nM0BCiUTeQ7rRfGNqdnl7iU7bh-CPDjmVIRqUNsNkpmxTGVl1WUhtKTKfgMDitCm_bgeyga3-evFwS0S_Ga7EPuN1O4oHpuYipqUwxRp6Ut2aAln1CM7Mb0kNFyy0gUfGcoblsO1LcGlcAlM6Z9ddZQxJR3uNkkzk&refId=Z0lv4EPsoOMziA0HmfL2Vg%3D%3D&trackingId=jOES6HJz2dyhbQ%2Fm3D3TRw%3D%3D&trk=flagship3_search_srp_jobs', 'March 19, 2024']]\n"
     ]
    }
   ],
   "source": [
    "print(jobData)"
   ]
  },
  {
   "cell_type": "code",
   "execution_count": 47,
   "id": "d268e885-884c-4290-8780-3c43eb8286d4",
   "metadata": {},
   "outputs": [
    {
     "ename": "AttributeError",
     "evalue": "'list' object has no attribute 'find_elements'",
     "output_type": "error",
     "traceback": [
      "\u001b[1;31m---------------------------------------------------------------------------\u001b[0m",
      "\u001b[1;31mAttributeError\u001b[0m                            Traceback (most recent call last)",
      "Cell \u001b[1;32mIn[47], line 1\u001b[0m\n\u001b[1;32m----> 1\u001b[0m jobsOnPageWithDescription \u001b[38;5;241m=\u001b[39m \u001b[43mjobSearch\u001b[49m\u001b[38;5;241;43m.\u001b[39;49m\u001b[43mgetJobDescriptions\u001b[49m\u001b[43m(\u001b[49m\u001b[43mjobData\u001b[49m\u001b[43m)\u001b[49m\n",
      "Cell \u001b[1;32mIn[42], line 134\u001b[0m, in \u001b[0;36mJobSearchLinkedIn.getJobDescriptions\u001b[1;34m(self, listOfJobs)\u001b[0m\n\u001b[0;32m    132\u001b[0m job \u001b[38;5;241m=\u001b[39m listOfJobs[idx]\n\u001b[0;32m    133\u001b[0m \u001b[38;5;28mself\u001b[39m\u001b[38;5;241m.\u001b[39mdriver\u001b[38;5;241m.\u001b[39mget(job[\u001b[38;5;241m4\u001b[39m])\n\u001b[1;32m--> 134\u001b[0m salary \u001b[38;5;241m=\u001b[39m \u001b[38;5;28;43mself\u001b[39;49m\u001b[38;5;241;43m.\u001b[39;49m\u001b[43mget_element_text_by_classname\u001b[49m\u001b[43m(\u001b[49m\u001b[43mjob\u001b[49m\u001b[43m,\u001b[49m\u001b[43m \u001b[49m\u001b[38;5;124;43m\"\u001b[39;49m\u001b[38;5;124;43m.job-details-jobs-unified-top-card__job-insight job-details-jobs-unified-top-card__job-insight--highlight\u001b[39;49m\u001b[38;5;124;43m\"\u001b[39;49m\u001b[43m)\u001b[49m\n\u001b[0;32m    135\u001b[0m \u001b[38;5;66;03m#numApplicants = self.get_element_text_by_classname(job, \".num-applicants__caption\")\u001b[39;00m\n\u001b[0;32m    136\u001b[0m tvm_text \u001b[38;5;241m=\u001b[39m \u001b[38;5;28mself\u001b[39m\u001b[38;5;241m.\u001b[39mget_element_text_by_classname(\u001b[38;5;28mself\u001b[39m\u001b[38;5;241m.\u001b[39mdriver, \u001b[38;5;124m\"\u001b[39m\u001b[38;5;124mtvm__text tvm__text--neutral\u001b[39m\u001b[38;5;124m\"\u001b[39m)\n",
      "Cell \u001b[1;32mIn[42], line 151\u001b[0m, in \u001b[0;36mJobSearchLinkedIn.get_element_text_by_classname\u001b[1;34m(self, documentObject, class_name)\u001b[0m\n\u001b[0;32m    150\u001b[0m \u001b[38;5;28;01mdef\u001b[39;00m \u001b[38;5;21mget_element_text_by_classname\u001b[39m(\u001b[38;5;28mself\u001b[39m, documentObject, class_name):\n\u001b[1;32m--> 151\u001b[0m     found \u001b[38;5;241m=\u001b[39m \u001b[43mdocumentObject\u001b[49m\u001b[38;5;241;43m.\u001b[39;49m\u001b[43mfind_elements\u001b[49m(By\u001b[38;5;241m.\u001b[39mCSS_SELECTOR, \u001b[38;5;124m\"\u001b[39m\u001b[38;5;124m.\u001b[39m\u001b[38;5;124m\"\u001b[39m \u001b[38;5;241m+\u001b[39m class_name)\n\u001b[0;32m    152\u001b[0m     \u001b[38;5;28;01mif\u001b[39;00m \u001b[38;5;28mlen\u001b[39m(found) \u001b[38;5;241m<\u001b[39m\u001b[38;5;241m=\u001b[39m \u001b[38;5;241m0\u001b[39m:\n\u001b[0;32m    153\u001b[0m         \u001b[38;5;28;01mreturn\u001b[39;00m \u001b[38;5;124m\"\u001b[39m\u001b[38;5;124m\"\u001b[39m\n",
      "\u001b[1;31mAttributeError\u001b[0m: 'list' object has no attribute 'find_elements'"
     ]
    }
   ],
   "source": [
    "jobsOnPageWithDescription = jobSearch.getJobDescriptions(jobData)"
   ]
  },
  {
   "cell_type": "code",
   "execution_count": 32,
   "id": "02c9dc84-9af8-44d4-ae92-c7926557fbe1",
   "metadata": {},
   "outputs": [
    {
     "name": "stdout",
     "output_type": "stream",
     "text": [
      "           id                                          title  \\\n",
      "0  3841120639          Software Development Engineer in Test   \n",
      "1  3822054670                                 Java Developer   \n",
      "2  3845777305                       Ground Software Engineer   \n",
      "3  3831952564   Software Engineer 2 (Java, Spring Boot, AWS)   \n",
      "4  3830734256        Software Engineer 2 (Java, Spring Boot)   \n",
      "5  3823523203                                  AEM Developer   \n",
      "6  3730488628  Technical Lead, Software Development (Cerner)   \n",
      "\n",
      "                     company                 location  salary  \\\n",
      "0             Charles Schwab  Lone Tree, CO (On-site)     NaN   \n",
      "1  Tata Consultancy Services                      NaN     NaN   \n",
      "2                   Actalent                      NaN     NaN   \n",
      "3                  U.S. Bank               Denver, CO     NaN   \n",
      "4                  U.S. Bank                      NaN     NaN   \n",
      "5  Tata Consultancy Services                      NaN     NaN   \n",
      "6         DaVita Kidney Care     Denver, CO (On-site)     NaN   \n",
      "\n",
      "                                                link    retrieved_on  \\\n",
      "0  https://www.linkedin.com/jobs/view/3841120639/...  March 11, 2024   \n",
      "1  https://www.linkedin.com/jobs/view/3822054670/...  March 11, 2024   \n",
      "2  https://www.linkedin.com/jobs/view/3845777305/...  March 11, 2024   \n",
      "3  https://www.linkedin.com/jobs/view/3831952564/...  March 11, 2024   \n",
      "4  https://www.linkedin.com/jobs/view/3830734256/...  March 11, 2024   \n",
      "5  https://www.linkedin.com/jobs/view/3823523203/...  March 18, 2024   \n",
      "6  https://www.linkedin.com/jobs/view/3730488628/...  March 18, 2024   \n",
      "\n",
      "   post_data                                        description  \n",
      "0        NaN  r Opportunity\\n\\nPersonalized Investing Engine...  \n",
      "1        NaN   Title \\n\\nJava Developer\\n\\nRelevant Experien...  \n",
      "2        NaN  cription\\n\\nProviding end-to-end space solutio...  \n",
      "3        NaN  U.S. Bank, we’re on a journey to do our best. ...  \n",
      "4        NaN  eader in the payments industry, Elavon provide...  \n",
      "5        NaN   Title \\n\\nAEM Developer\\n\\n Work Location  (S...  \n",
      "6        NaN                                                NaN  \n"
     ]
    }
   ],
   "source": [
    "print(jobSearch.df)"
   ]
  },
  {
   "cell_type": "code",
   "execution_count": null,
   "id": "213085f9-1750-4a49-86b0-cebd2b8e7f08",
   "metadata": {},
   "outputs": [],
   "source": [
    "jobSearch.save()"
   ]
  },
  {
   "cell_type": "code",
   "execution_count": null,
   "id": "a30f97a8-07d6-4220-9bab-b0a75dda8447",
   "metadata": {},
   "outputs": [],
   "source": [
    "testList = jobSearch.testSoup()"
   ]
  },
  {
   "cell_type": "code",
   "execution_count": null,
   "id": "5cb8734e-6255-44d8-b2a3-3933c1298b3f",
   "metadata": {},
   "outputs": [],
   "source": [
    "for val in testList:\n",
    "    print(val.get_attribute(\"class\"))\n",
    "    print(\"\\n\")"
   ]
  },
  {
   "cell_type": "code",
   "execution_count": null,
   "id": "f336c1f9-0904-4deb-9ed1-13b7db901b24",
   "metadata": {},
   "outputs": [],
   "source": []
  }
 ],
 "metadata": {
  "kernelspec": {
   "display_name": "Python 3 (ipykernel)",
   "language": "python",
   "name": "python3"
  },
  "language_info": {
   "codemirror_mode": {
    "name": "ipython",
    "version": 3
   },
   "file_extension": ".py",
   "mimetype": "text/x-python",
   "name": "python",
   "nbconvert_exporter": "python",
   "pygments_lexer": "ipython3",
   "version": "3.12.2"
  }
 },
 "nbformat": 4,
 "nbformat_minor": 5
}
